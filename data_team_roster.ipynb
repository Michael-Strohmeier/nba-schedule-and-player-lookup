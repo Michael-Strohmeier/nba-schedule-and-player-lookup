{
  "nbformat": 4,
  "nbformat_minor": 0,
  "metadata": {
    "colab": {
      "name": "data_team_roster.ipynb",
      "provenance": [],
      "collapsed_sections": []
    },
    "kernelspec": {
      "name": "python3",
      "display_name": "Python 3"
    },
    "language_info": {
      "name": "python"
    }
  },
  "cells": [
    {
      "cell_type": "code",
      "metadata": {
        "id": "espNAA7TpLaJ"
      },
      "source": [
        "import pandas as pd\n",
        "from bs4 import BeautifulSoup\n",
        "import urllib.parse\n",
        "import urllib.request\n",
        "import time\n",
        "from typing import Dict, List\n",
        "import pickle"
      ],
      "execution_count": 1,
      "outputs": []
    },
    {
      "cell_type": "code",
      "metadata": {
        "id": "zb1_8rGqpOWZ"
      },
      "source": [
        "def url_to_soup(url: str, headers: Dict) -> BeautifulSoup:\n",
        "  url_request = urllib.request.Request(url, data=None, headers=headers)\n",
        "  url_response = urllib.request.urlopen(url_request)\n",
        "  soup = BeautifulSoup(url_response, \"html.parser\", from_encoding=\"iso-8859-1\")\n",
        "\n",
        "  return soup"
      ],
      "execution_count": 2,
      "outputs": []
    },
    {
      "cell_type": "code",
      "metadata": {
        "id": "ARA6zKC7pSwI"
      },
      "source": [
        "headers = {\n",
        "           'user-agent': 'Mozilla/5.0 (Windows NT 10.0; Win64; x64) AppleWebKit/537.36 (KHTML, like Gecko) Chrome/78.0.3904.108 Safari/537.36',\n",
        "           'cookie': 'visid_incap_1712983=Dfo+CVLdTCSzMHcIXEgPSb1y7l0AAAAAQUIPAAAAAAAetg/EHDkFJUigbIo4eaK4; incap_ses_532_1712983=dFrgDpkdqkYCF1u+mQxiB71y7l0AAAAAksMc42V5CJx6OdUZdeHflA==; has_js=1; _ga=GA1.2.626207180.1575908117; _gid=GA1.2.512657448.1575908117; __utma=158387685.626207180.1575908117.1575908117.1575908117.1; __utmc=158387685; __utmz=158387685.1575908117.1.1.utmcsr=(direct)^|utmccn=(direct)^|utmcmd=(none); __utmt=1; __utmt_b=1; _aeaid=5e12b9d6-0171-4fde-8ccf-1bba809a1bb2; aeatstartmessage=true; __utmb=158387685.4.10.1575908117',\n",
        "          }\n",
        "\n",
        "\n",
        "url = \"https://en.wikipedia.org/wiki/List_of_current_NBA_team_rosters\"\n",
        "soup = url_to_soup(url, headers)"
      ],
      "execution_count": 3,
      "outputs": []
    },
    {
      "cell_type": "code",
      "metadata": {
        "id": "VmwW9EnOprGK"
      },
      "source": [
        "tables = soup.find_all(\"table\", {\"class\": \"toccolours\"})"
      ],
      "execution_count": 4,
      "outputs": []
    },
    {
      "cell_type": "code",
      "metadata": {
        "colab": {
          "base_uri": "https://localhost:8080/",
          "height": 35
        },
        "id": "l1unpiRRqSoK",
        "outputId": "c9a58818-4090-4954-f18f-b1f97ed31bbe"
      },
      "source": [
        "table = tables[0]\n",
        "team_name = table.find(\"div\", {\"class\": \"navbar-header\"}).b.text\n",
        "\n",
        "team_name"
      ],
      "execution_count": 5,
      "outputs": [
        {
          "output_type": "execute_result",
          "data": {
            "application/vnd.google.colaboratory.intrinsic+json": {
              "type": "string"
            },
            "text/plain": [
              "'Boston Celtics roster'"
            ]
          },
          "metadata": {},
          "execution_count": 5
        }
      ]
    },
    {
      "cell_type": "code",
      "metadata": {
        "id": "yScXtvVKqXpM"
      },
      "source": [
        "d = dict()\n",
        "for table in tables:\n",
        "  # team_name\n",
        "  team_name = table.find(\"div\", {\"class\": \"navbar-header\"}).b.text\n",
        "\n",
        "  uls = table.find_all(\"ul\")\n",
        "\n",
        "  # head_coach\n",
        "  head_coach = uls[1].find(\"li\").text\n",
        "\n",
        "  # assistant_coaches\n",
        "  assistant_coaches = []\n",
        "  for li in uls[2]:\n",
        "    try:\n",
        "      assistant_coaches.append(li.text)\n",
        "    except:\n",
        "      continue\n",
        "\n",
        "  # players\n",
        "  players = []\n",
        "\n",
        "  player_table = table.find(\"tbody\").find(\"tbody\")\n",
        "  for tr in player_table.find_all(\"tr\"):\n",
        "    temp = []\n",
        "    for td in tr.find_all(\"td\"):\n",
        "      temp.append(td.text)\n",
        "\n",
        "    if temp != []:\n",
        "      players.append(temp)\n",
        "\n",
        "  d[team_name] = {\n",
        "      \"head_coach\": head_coach,\n",
        "      \"assistant_coaches\": assistant_coaches,\n",
        "      \"players\": pd.DataFrame(players, columns=[\"position\", \"number\", \"name\", \"height\", \"weight\", \"dob\", \"from\"])\n",
        "  }"
      ],
      "execution_count": 6,
      "outputs": []
    },
    {
      "cell_type": "code",
      "metadata": {
        "id": "aqOz_VLWs_za"
      },
      "source": [
        "with open(\"nba_teams.pickle\", \"wb\") as f:\n",
        "  pickle.dump(d, f, protocol=pickle.HIGHEST_PROTOCOL)"
      ],
      "execution_count": 7,
      "outputs": []
    }
  ]
}