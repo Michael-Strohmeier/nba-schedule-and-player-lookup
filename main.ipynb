{
  "nbformat": 4,
  "nbformat_minor": 0,
  "metadata": {
    "colab": {
      "name": "main.ipynb",
      "provenance": [],
      "collapsed_sections": []
    },
    "kernelspec": {
      "name": "python3",
      "display_name": "Python 3"
    },
    "language_info": {
      "name": "python"
    }
  },
  "cells": [
    {
      "cell_type": "code",
      "metadata": {
        "id": "nt-FT6sC4JBi"
      },
      "source": [
        "import pickle\n",
        "from typing import List\n",
        "import pandas as pd"
      ],
      "execution_count": 21,
      "outputs": []
    },
    {
      "cell_type": "code",
      "metadata": {
        "id": "6pdhhohX4Td0"
      },
      "source": [
        "with open(\"nba_teams.pickle\", \"rb\") as f:\n",
        "  nba_teams = pickle.load(f)\n",
        "\n",
        "df = pd.read_csv(\"season_data_nba_2022.csv\")"
      ],
      "execution_count": 22,
      "outputs": []
    },
    {
      "cell_type": "code",
      "metadata": {
        "colab": {
          "base_uri": "https://localhost:8080/"
        },
        "id": "iqUB4G-p4xVx",
        "outputId": "54bffc9e-56b8-4422-f860-0cbea0df14bb"
      },
      "source": [
        "nba_teams.keys()"
      ],
      "execution_count": 23,
      "outputs": [
        {
          "output_type": "execute_result",
          "data": {
            "text/plain": [
              "dict_keys(['Boston Celtics roster', 'Brooklyn Nets roster', 'New York Knicks roster', 'Philadelphia 76ers roster', 'Toronto Raptors roster', 'Chicago Bulls roster', 'Cleveland Cavaliers roster', 'Detroit Pistons roster', 'Indiana Pacers roster', 'Milwaukee Bucks roster', 'Atlanta Hawks roster', 'Charlotte Hornets roster', 'Miami Heat roster', 'Orlando Magic roster', 'Washington Wizards roster', 'Denver Nuggets roster', 'Minnesota Timberwolves roster', 'Oklahoma City Thunder roster', 'Portland Trail Blazers roster', 'Utah Jazz roster', 'Golden State Warriors roster', 'Los Angeles Clippers roster', 'Los Angeles Lakers roster', 'Phoenix Suns roster', 'Sacramento Kings roster', 'Dallas Mavericks roster', 'Houston Rockets roster', 'Memphis Grizzlies roster', 'New Orleans Pelicans roster', 'San Antonio Spurs roster'])"
            ]
          },
          "metadata": {},
          "execution_count": 23
        }
      ]
    },
    {
      "cell_type": "code",
      "metadata": {
        "id": "B2anfhFj4yMq"
      },
      "source": [
        "def find_players_team(player_name: str) -> List:\n",
        "  temp = []\n",
        "\n",
        "  for nba_team in nba_teams.keys():\n",
        "    players = list(nba_teams[nba_team][\"players\"][\"name\"])\n",
        "\n",
        "    for player in players:\n",
        "      if player_name.lower() in player.lower():\n",
        "        temp.append([player, nba_team])\n",
        "\n",
        "  return temp\n",
        "\n",
        "def find_team_games(team_name: str) -> pd.DataFrame:\n",
        "  temp = df[df[[\"away\", \"home\"]].applymap(lambda x: team_name in x).any(1)]\n",
        "  return temp[[\"date\", \"time\", \"away\", \"home\"]]"
      ],
      "execution_count": 43,
      "outputs": []
    },
    {
      "cell_type": "code",
      "metadata": {
        "colab": {
          "base_uri": "https://localhost:8080/"
        },
        "id": "-v7jlgAl4_sB",
        "outputId": "5db88c5c-c2b1-4311-c779-413484b3eab1"
      },
      "source": [
        "find_players_team(\"ball\")"
      ],
      "execution_count": 44,
      "outputs": [
        {
          "output_type": "execute_result",
          "data": {
            "text/plain": [
              "[['Ball, Lonzo\\n', 'Chicago Bulls roster'],\n",
              " ['Ball, LaMelo\\n', 'Charlotte Hornets roster']]"
            ]
          },
          "metadata": {},
          "execution_count": 44
        }
      ]
    },
    {
      "cell_type": "code",
      "metadata": {
        "colab": {
          "base_uri": "https://localhost:8080/",
          "height": 419
        },
        "id": "C4X1mYuM6C-_",
        "outputId": "be0acab0-c011-4f12-8b85-b7e17ef70565"
      },
      "source": [
        "team_name = \"Charlotte Hornets\"\n",
        "find_team_games(team_name)"
      ],
      "execution_count": 45,
      "outputs": [
        {
          "output_type": "execute_result",
          "data": {
            "text/html": [
              "<div>\n",
              "<style scoped>\n",
              "    .dataframe tbody tr th:only-of-type {\n",
              "        vertical-align: middle;\n",
              "    }\n",
              "\n",
              "    .dataframe tbody tr th {\n",
              "        vertical-align: top;\n",
              "    }\n",
              "\n",
              "    .dataframe thead th {\n",
              "        text-align: right;\n",
              "    }\n",
              "</style>\n",
              "<table border=\"1\" class=\"dataframe\">\n",
              "  <thead>\n",
              "    <tr style=\"text-align: right;\">\n",
              "      <th></th>\n",
              "      <th>date</th>\n",
              "      <th>time</th>\n",
              "      <th>away</th>\n",
              "      <th>home</th>\n",
              "    </tr>\n",
              "  </thead>\n",
              "  <tbody>\n",
              "    <tr>\n",
              "      <th>2</th>\n",
              "      <td>Wed, Oct 20, 2021</td>\n",
              "      <td>7:00p</td>\n",
              "      <td>Indiana Pacers</td>\n",
              "      <td>Charlotte Hornets</td>\n",
              "    </tr>\n",
              "    <tr>\n",
              "      <th>18</th>\n",
              "      <td>Fri, Oct 22, 2021</td>\n",
              "      <td>7:00p</td>\n",
              "      <td>Charlotte Hornets</td>\n",
              "      <td>Cleveland Cavaliers</td>\n",
              "    </tr>\n",
              "    <tr>\n",
              "      <th>34</th>\n",
              "      <td>Sun, Oct 24, 2021</td>\n",
              "      <td>4:00p</td>\n",
              "      <td>Charlotte Hornets</td>\n",
              "      <td>Brooklyn Nets</td>\n",
              "    </tr>\n",
              "    <tr>\n",
              "      <th>40</th>\n",
              "      <td>Mon, Oct 25, 2021</td>\n",
              "      <td>7:00p</td>\n",
              "      <td>Boston Celtics</td>\n",
              "      <td>Charlotte Hornets</td>\n",
              "    </tr>\n",
              "    <tr>\n",
              "      <th>54</th>\n",
              "      <td>Wed, Oct 27, 2021</td>\n",
              "      <td>7:00p</td>\n",
              "      <td>Charlotte Hornets</td>\n",
              "      <td>Orlando Magic</td>\n",
              "    </tr>\n",
              "    <tr>\n",
              "      <th>...</th>\n",
              "      <td>...</td>\n",
              "      <td>...</td>\n",
              "      <td>...</td>\n",
              "      <td>...</td>\n",
              "    </tr>\n",
              "    <tr>\n",
              "      <th>1160</th>\n",
              "      <td>Sat, Apr 2, 2022</td>\n",
              "      <td>12:30p</td>\n",
              "      <td>Charlotte Hornets</td>\n",
              "      <td>Philadelphia 76ers</td>\n",
              "    </tr>\n",
              "    <tr>\n",
              "      <th>1180</th>\n",
              "      <td>Tue, Apr 5, 2022</td>\n",
              "      <td>7:30p</td>\n",
              "      <td>Charlotte Hornets</td>\n",
              "      <td>Miami Heat</td>\n",
              "    </tr>\n",
              "    <tr>\n",
              "      <th>1195</th>\n",
              "      <td>Thu, Apr 7, 2022</td>\n",
              "      <td>7:00p</td>\n",
              "      <td>Orlando Magic</td>\n",
              "      <td>Charlotte Hornets</td>\n",
              "    </tr>\n",
              "    <tr>\n",
              "      <th>1207</th>\n",
              "      <td>Fri, Apr 8, 2022</td>\n",
              "      <td>8:00p</td>\n",
              "      <td>Charlotte Hornets</td>\n",
              "      <td>Chicago Bulls</td>\n",
              "    </tr>\n",
              "    <tr>\n",
              "      <th>1228</th>\n",
              "      <td>Sun, Apr 10, 2022</td>\n",
              "      <td>NaN</td>\n",
              "      <td>Washington Wizards</td>\n",
              "      <td>Charlotte Hornets</td>\n",
              "    </tr>\n",
              "  </tbody>\n",
              "</table>\n",
              "<p>82 rows × 4 columns</p>\n",
              "</div>"
            ],
            "text/plain": [
              "                   date    time                away                 home\n",
              "2     Wed, Oct 20, 2021   7:00p      Indiana Pacers    Charlotte Hornets\n",
              "18    Fri, Oct 22, 2021   7:00p   Charlotte Hornets  Cleveland Cavaliers\n",
              "34    Sun, Oct 24, 2021   4:00p   Charlotte Hornets        Brooklyn Nets\n",
              "40    Mon, Oct 25, 2021   7:00p      Boston Celtics    Charlotte Hornets\n",
              "54    Wed, Oct 27, 2021   7:00p   Charlotte Hornets        Orlando Magic\n",
              "...                 ...     ...                 ...                  ...\n",
              "1160   Sat, Apr 2, 2022  12:30p   Charlotte Hornets   Philadelphia 76ers\n",
              "1180   Tue, Apr 5, 2022   7:30p   Charlotte Hornets           Miami Heat\n",
              "1195   Thu, Apr 7, 2022   7:00p       Orlando Magic    Charlotte Hornets\n",
              "1207   Fri, Apr 8, 2022   8:00p   Charlotte Hornets        Chicago Bulls\n",
              "1228  Sun, Apr 10, 2022     NaN  Washington Wizards    Charlotte Hornets\n",
              "\n",
              "[82 rows x 4 columns]"
            ]
          },
          "metadata": {},
          "execution_count": 45
        }
      ]
    },
    {
      "cell_type": "code",
      "metadata": {
        "id": "YiS_hBPT9QP2"
      },
      "source": [
        ""
      ],
      "execution_count": null,
      "outputs": []
    }
  ]
}