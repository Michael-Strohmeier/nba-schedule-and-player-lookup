{
  "nbformat": 4,
  "nbformat_minor": 0,
  "metadata": {
    "colab": {
      "name": "data_season_games.ipynb",
      "provenance": [],
      "collapsed_sections": []
    },
    "kernelspec": {
      "name": "python3",
      "display_name": "Python 3"
    },
    "language_info": {
      "name": "python"
    }
  },
  "cells": [
    {
      "cell_type": "code",
      "metadata": {
        "id": "2fYql60AcK8w"
      },
      "source": [
        "import pandas as pd\n",
        "from bs4 import BeautifulSoup\n",
        "import urllib.parse\n",
        "import urllib.request\n",
        "import time\n",
        "from typing import Dict, List"
      ],
      "execution_count": 1,
      "outputs": []
    },
    {
      "cell_type": "code",
      "metadata": {
        "id": "u7mvW6NGcLYy"
      },
      "source": [
        "def url_to_soup(url: str, headers: Dict) -> BeautifulSoup:\n",
        "  url_request = urllib.request.Request(url, data=None, headers=headers)\n",
        "  url_response = urllib.request.urlopen(url_request)\n",
        "  soup = BeautifulSoup(url_response, \"html.parser\", from_encoding=\"iso-8859-1\")\n",
        "\n",
        "  return soup\n",
        "\n",
        "def get_games(month: str, season: str, headers: Dict) -> List:\n",
        "  url = f\"https://www.basketball-reference.com/leagues/NBA_2022_games-{month}.html\"\n",
        "  soup = url_to_soup(url, headers)\n",
        "\n",
        "  table = soup.find(\"tbody\")\n",
        "  rows = table.find_all(\"tr\")\n",
        "\n",
        "  games = []\n",
        "  for row in rows:\n",
        "    temp = []\n",
        "\n",
        "    for a in row.find_all(\"a\"):\n",
        "      temp.append(a.text)\n",
        "\n",
        "    temp = temp[:3]\n",
        "\n",
        "    temp.append(row.find(\"td\", {\"data-stat\": \"game_start_time\"}).text)\n",
        "\n",
        "    games.append(temp)\n",
        "\n",
        "  return games"
      ],
      "execution_count": 2,
      "outputs": []
    },
    {
      "cell_type": "code",
      "metadata": {
        "id": "jXmF1vMVcNiw"
      },
      "source": [
        "headers = {\n",
        "           'user-agent': 'Mozilla/5.0 (Windows NT 10.0; Win64; x64) AppleWebKit/537.36 (KHTML, like Gecko) Chrome/78.0.3904.108 Safari/537.36',\n",
        "           'cookie': 'visid_incap_1712983=Dfo+CVLdTCSzMHcIXEgPSb1y7l0AAAAAQUIPAAAAAAAetg/EHDkFJUigbIo4eaK4; incap_ses_532_1712983=dFrgDpkdqkYCF1u+mQxiB71y7l0AAAAAksMc42V5CJx6OdUZdeHflA==; has_js=1; _ga=GA1.2.626207180.1575908117; _gid=GA1.2.512657448.1575908117; __utma=158387685.626207180.1575908117.1575908117.1575908117.1; __utmc=158387685; __utmz=158387685.1575908117.1.1.utmcsr=(direct)^|utmccn=(direct)^|utmcmd=(none); __utmt=1; __utmt_b=1; _aeaid=5e12b9d6-0171-4fde-8ccf-1bba809a1bb2; aeatstartmessage=true; __utmb=158387685.4.10.1575908117',\n",
        "          }\n",
        "\n",
        "months = [\"october\", \"november\", \"december\", \"january\", \"february\", \"march\", \"april\"]\n",
        "season = \"2022\"\n",
        "\n",
        "games = []\n",
        "for month in months:\n",
        "  games.extend(get_games(month, season, headers))\n",
        "  time.sleep(0.25)"
      ],
      "execution_count": 3,
      "outputs": []
    },
    {
      "cell_type": "code",
      "metadata": {
        "id": "94g1FjT0g8az"
      },
      "source": [
        "df = pd.DataFrame(games, columns=[\"date\", \"away\", \"home\", \"time\"])"
      ],
      "execution_count": 4,
      "outputs": []
    },
    {
      "cell_type": "code",
      "metadata": {
        "id": "qIcKAxM2g8eh"
      },
      "source": [
        "df.to_csv(\"season_data_nba_2022.csv\")"
      ],
      "execution_count": 5,
      "outputs": []
    }
  ]
}